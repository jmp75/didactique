{
 "cells": [
  {
   "cell_type": "markdown",
   "id": "113b4add-70fb-44ba-957d-8d697e22f8da",
   "metadata": {
    "slideshow": {
     "slide_type": "slide"
    },
    "tags": []
   },
   "source": [
    "# Packaging for python\n",
    "\n",
    "A discussion starter for the EASI community. Or others."
   ]
  },
  {
   "cell_type": "markdown",
   "id": "568123ba",
   "metadata": {
    "slideshow": {
     "slide_type": "slide"
    }
   },
   "source": [
    "## Motivation\n",
    "\n",
    "* Digital Water and Landscape \n",
    "  * Software and Data deliveries teams channel\n",
    "* Deployment of the [swift2 stack](https://github.com/csiro-hydroinformatics/streamflow-forecasting-tools-onboard/)\n",
    "* Path to impact and adoption\n",
    "* Version and dependency management\n",
    "* Managing software hopefully at least with state of the art practices\n",
    "* Incentives for better documentation\n",
    "* Habit? Allergy to python notebooks copy-paste entropy?\n",
    "* Community of practices; efficiencies and shared know-how"
   ]
  },
  {
   "cell_type": "markdown",
   "id": "cf8a167a",
   "metadata": {
    "slideshow": {
     "slide_type": "slide"
    }
   },
   "source": [
    "## My utopia:\n",
    "\n",
    "```sh\n",
    "mamba install -c conda-csiro -c conda-forge swift2 fogss\n",
    "```"
   ]
  },
  {
   "cell_type": "markdown",
   "id": "4ce29d45",
   "metadata": {
    "slideshow": {
     "slide_type": "slide"
    }
   },
   "source": [
    "## python packaging\n",
    "\n",
    "![](./img/my_py_pkgs.png)\n",
    "\n",
    "Impressions: pypi has few quality control gateways\n",
    "\n",
    "How does one track [impact \"out there\"](https://pypistats.org/packages/refcount)?\n",
    "\n",
    "* [How to Publish Your Package on PyPI](https://blog.jetbrains.com/pycharm/2017/05/how-to-publish-your-package-on-pypi/)\n",
    "* [A practical guide to setuptools and pyproject](https://godatadriven.com/blog/a-practical-guide-to-setuptools-and-pyproject-toml)\n",
    "* I hear noises about [Poetry](https://python-poetry.org/docs/)\n",
    "\n",
    "Work such as [Julien Lerat's py package Azure build pipeline](https://dev.azure.com/ler015/_git/hyzarr?path=/azure-pipelines.yml)"
   ]
  },
  {
   "cell_type": "markdown",
   "id": "de9641f5",
   "metadata": {
    "slideshow": {
     "slide_type": "slide"
    }
   },
   "source": [
    "## conda packaging\n",
    "\n",
    "pip and co are OK for \"pure\" python (or CPython), but not much more\n",
    "\n",
    "conda has its origin in Python, but much broader applicability\n",
    "\n",
    "My particular use case\n",
    "\n",
    "![](https://github.com/csiro-hydroinformatics/streamflow-forecasting-tools-onboard/raw/master/img/architecture_poster.png)\n",
    "\n",
    "[Submitting refcount to conda-forge](https://jmp75.github.io/work-blog/recipes/conda/conda-forge/2022/06/04/conda-packages-conda-forge.html)\n",
    "\n",
    "[Teams CSIRO-Python thread](https://teams.microsoft.com/l/message/19:826973b41e6c4a0bbc1e662f7b73de47@thread.skype/1654494677516?tenantId=0fe05593-19ac-4f98-adbf-0375fce7f160&groupId=20e7492d-eca3-4f55-bbc6-e87f2ad12df2&parentMessageId=1654494677516&teamName=CSIRO&channelName=python&createdTime=1654494677516) and post [Setting up a private conda channel - part 1](https://jmp75.github.io/work-blog/conda/conda-channel/2022/06/18/conda-channels-prep-work.html)\n"
   ]
  },
  {
   "cell_type": "markdown",
   "id": "38f8ddf3-2d22-4116-98cb-fe4c7a54a588",
   "metadata": {
    "slideshow": {
     "slide_type": "slide"
    }
   },
   "source": [
    "## Other resources and topics\n",
    "\n",
    "* [nbdev](https://github.com/fastai/nbdev/)\n",
    "* Debian packaging\n"
   ]
  },
  {
   "cell_type": "code",
   "execution_count": null,
   "id": "f0ad50d3",
   "metadata": {},
   "outputs": [],
   "source": []
  },
  {
   "cell_type": "code",
   "execution_count": null,
   "id": "55797570",
   "metadata": {},
   "outputs": [],
   "source": []
  },
  {
   "cell_type": "code",
   "execution_count": null,
   "id": "df45dd20",
   "metadata": {},
   "outputs": [],
   "source": []
  }
 ],
 "metadata": {
  "celltoolbar": "Slideshow",
  "kernelspec": {
   "display_name": "fastai_pt",
   "language": "python",
   "name": "fai_pt"
  },
  "language_info": {
   "codemirror_mode": {
    "name": "ipython",
    "version": 3
   },
   "file_extension": ".py",
   "mimetype": "text/x-python",
   "name": "python",
   "nbconvert_exporter": "python",
   "pygments_lexer": "ipython3",
   "version": "3.9.12"
  }
 },
 "nbformat": 4,
 "nbformat_minor": 5
}
