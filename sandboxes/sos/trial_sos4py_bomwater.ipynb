{
 "cells": [
  {
   "cell_type": "markdown",
   "metadata": {},
   "source": [
    "# Trial sos4py for the Australian BoM Water Data Online service\n",
    "\n",
    "Adapting a demo notebook found in the package [sos4py](https://github.com/52North/sos4py)\n"
   ]
  },
  {
   "cell_type": "code",
   "execution_count": 1,
   "metadata": {},
   "outputs": [],
   "source": [
    "from sos4py.main import connection_sos\n",
    "from sos4py.sos_2_0_0 import SOSGetFeatureOfInterestResponse\n",
    "\n",
    "from matplotlib import pyplot as plt\n",
    "import seaborn as sns\n",
    "import scipy.stats as stats\n",
    "import pandas as pd\n",
    "\n",
    "import folium # avail on conda-forge\n",
    "# note, had an issue with \n",
    "# rasterio leading to ImportError: libcrypto.so.1.0.0: cannot open shared object file: No such file or directory\n",
    "# needed to `mamba update -c conda-forge rasterio` to get it back into shape. May have been because I had used the pytorch repo as well. May have.\n",
    "import contextily as ctx"
   ]
  },
  {
   "cell_type": "code",
   "execution_count": 2,
   "metadata": {},
   "outputs": [],
   "source": [
    "# Create SOS instance \n",
    "# fluggs_sos = connection_sos(\"https://fluggs.wupperverband.de/sos2/service\")\n",
    "fluggs_sos = connection_sos(\"http://www.bom.gov.au/waterdata/services?service=SOS&version=2.0&request=GetDataAvailability\")"
   ]
  },
  {
   "cell_type": "markdown",
   "metadata": {},
   "source": [
    "# 1) Learn about content of SOS "
   ]
  },
  {
   "cell_type": "markdown",
   "metadata": {},
   "source": [
    "#### Service"
   ]
  },
  {
   "cell_type": "code",
   "execution_count": 3,
   "metadata": {},
   "outputs": [
    {
     "name": "stdout",
     "output_type": "stream",
     "text": [
      "_root                 [[], [], [], [], [], [], [], [], [], [], [], []]\n",
      "title                                               KISTERS KiWIS SOS2\n",
      "abstract                                                          None\n",
      "keywords                                                            []\n",
      "accessconstraints                    maxNumberOfReturnedValues=2000000\n",
      "fees                                                              None\n",
      "type                                                               SOS\n",
      "service                                                            SOS\n",
      "version                                                          2.0.0\n",
      "versions                                                       [2.0.0]\n",
      "profiles             [http://www.opengis.net/spec/SOS/2.0/conf/core...\n",
      "Name: ServiceIdentification, dtype: object\n"
     ]
    }
   ],
   "source": [
    "print(fluggs_sos.sosServiceIdentification())"
   ]
  },
  {
   "cell_type": "code",
   "execution_count": 4,
   "metadata": {},
   "outputs": [
    {
     "name": "stdout",
     "output_type": "stream",
     "text": [
      "['http://www.opengis.net/spec/SOS/2.0/conf/core', 'http://www.opengis.net/spec/SOS/2.0/conf/soap', 'http://www.opengis.net/spec/SOS/2.0/conf/kvp-core', 'http://www.opengis.net/spec/SOS/2.0/conf/foiRetrieval', 'http://www.opengis.net/spec/SOS/2.0/conf/gda', 'http://www.opengis.net/spec/SOS/2.0/conf/xml', 'http://www.opengis.net/spec/SOS_application-profile_hydrology/1.0/req/hydrosos']\n"
     ]
    }
   ],
   "source": [
    "print(fluggs_sos.sosServiceIdentification()['profiles'])"
   ]
  },
  {
   "cell_type": "markdown",
   "metadata": {},
   "source": [
    "#### Provider"
   ]
  },
  {
   "cell_type": "code",
   "execution_count": 5,
   "metadata": {},
   "outputs": [
    {
     "name": "stdout",
     "output_type": "stream",
     "text": [
      "_root           [[[<Element '{http://www.opengis.net/ows/1.1}A...\n",
      "name                                                         None\n",
      "organization                                                 None\n",
      "site                                                         None\n",
      "role                                                         None\n",
      "position                                                     None\n",
      "phone                                                        None\n",
      "fax                                                          None\n",
      "address                                                      None\n",
      "city                                                         None\n",
      "region                                                       None\n",
      "postcode                                                     None\n",
      "country                                                      None\n",
      "email                                                        None\n",
      "url                                                          None\n",
      "hours                                                        None\n",
      "instructions                                                 None\n",
      "Name: ProviderData, dtype: object\n"
     ]
    }
   ],
   "source": [
    "print(fluggs_sos.sosProvider())"
   ]
  },
  {
   "cell_type": "markdown",
   "metadata": {},
   "source": [
    "#### SOS operations"
   ]
  },
  {
   "cell_type": "code",
   "execution_count": 6,
   "metadata": {},
   "outputs": [
    {
     "name": "stdout",
     "output_type": "stream",
     "text": [
      "[Name                                                DescribeSensor\n",
      "FormatOptions                                           [text/xml]\n",
      "Parameters                                                      {}\n",
      "Methods          [{'constraints': [Constraint: Content-Type - [...\n",
      "Constraints                                                     []\n",
      "Name: DescribeSensor, dtype: object, Name                                               GetCapabilities\n",
      "FormatOptions                                           [text/xml]\n",
      "Parameters                                                      {}\n",
      "Methods          [{'constraints': [Constraint: Content-Type - [...\n",
      "Constraints                                                     []\n",
      "Name: GetCapabilities, dtype: object, Name                                           GetDataAvailability\n",
      "FormatOptions                                           [text/xml]\n",
      "Parameters                                                      {}\n",
      "Methods          [{'constraints': [Constraint: Content-Type - [...\n",
      "Constraints                                                     []\n",
      "Name: GetDataAvailability, dtype: object, Name                                          GetFeatureOfInterest\n",
      "FormatOptions                                           [text/xml]\n",
      "Parameters                                                      {}\n",
      "Methods          [{'constraints': [Constraint: Content-Type - [...\n",
      "Constraints                                                     []\n",
      "Name: GetFeatureOfInterest, dtype: object, Name                                                GetObservation\n",
      "FormatOptions                                           [text/xml]\n",
      "Parameters                                                      {}\n",
      "Methods          [{'constraints': [Constraint: Content-Type - [...\n",
      "Constraints                                                     []\n",
      "Name: GetObservation, dtype: object]\n"
     ]
    }
   ],
   "source": [
    "print(fluggs_sos.sosOperationsMetadata())\n",
    "#print(fluggs_sos.sosOperationsMetadata()[1]['Name'])"
   ]
  },
  {
   "cell_type": "markdown",
   "metadata": {},
   "source": [
    "#### All offerings"
   ]
  },
  {
   "cell_type": "code",
   "execution_count": 7,
   "metadata": {},
   "outputs": [],
   "source": [
    "sos_off = fluggs_sos.sosOfferings()"
   ]
  },
  {
   "cell_type": "code",
   "execution_count": 8,
   "metadata": {},
   "outputs": [
    {
     "data": {
      "text/plain": [
       "(list, 193)"
      ]
     },
     "execution_count": 8,
     "metadata": {},
     "output_type": "execute_result"
    }
   ],
   "source": [
    "type(sos_off), len(sos_off)"
   ]
  },
  {
   "cell_type": "code",
   "execution_count": 9,
   "metadata": {},
   "outputs": [
    {
     "data": {
      "text/plain": [
       "_root                            [[], [], [], [], [[<Element '{http://www.openg...\n",
       "id                               http://bom.gov.au/waterdata/services/tstypes/P...\n",
       "description                      Offering for timeseries type Harmonised.Combin...\n",
       "name                                                Harmonised.Combined.AsStored.1\n",
       "bbox                                  (-159.6879, -90.0, 168.80790000000002, 90.0)\n",
       "bbox_srs                                                urn:ogc:def:crs:EPSG::4326\n",
       "begin_position                                                                None\n",
       "end_position                                                                  None\n",
       "procedures                       [http://bom.gov.au/waterdata/services/tstypes/...\n",
       "procedure_description_formats                                                   []\n",
       "observed_properties                                                             []\n",
       "features_of_interest                                                            []\n",
       "response_formats                                                                []\n",
       "observation_models                                                              []\n",
       "Name: http://bom.gov.au/waterdata/services/tstypes/Pat1_PC_1, dtype: object"
      ]
     },
     "execution_count": 9,
     "metadata": {},
     "output_type": "execute_result"
    }
   ],
   "source": [
    "sos_off[1]"
   ]
  },
  {
   "cell_type": "markdown",
   "metadata": {},
   "source": [
    "#### All available phenomena (independent of e.g feature of interest or offering)"
   ]
  },
  {
   "cell_type": "code",
   "execution_count": 10,
   "metadata": {},
   "outputs": [
    {
     "data": {
      "text/plain": [
       "[]"
      ]
     },
     "execution_count": 10,
     "metadata": {},
     "output_type": "execute_result"
    }
   ],
   "source": [
    "sos_ph = fluggs_sos.sosPhenomena()\n",
    "\n",
    "sos_ph"
   ]
  },
  {
   "cell_type": "markdown",
   "metadata": {},
   "source": [
    "list of phenomena not found... Reverse engineering sos4py method `sosPhenomena` : "
   ]
  },
  {
   "cell_type": "code",
   "execution_count": 11,
   "metadata": {},
   "outputs": [],
   "source": [
    "from sos4py.sos_2_0_0 import namespaces\n",
    "\n",
    "from owslib.util import testXMLValue, testXMLAttribute, nspath_eval, openURL\n",
    "from owslib.swe.observation.sos200 import SensorObservationService_2_0_0\n",
    "from owslib.swe.observation.sos200 import SOSGetObservationResponse\n",
    "from owslib.swe.observation.waterml2 import MeasurementTimeseriesObservation\n",
    "from owslib.swe.observation.om import MeasurementObservation\n",
    "from owslib.etree import etree\n",
    "from owslib import ows\n",
    "import pandas as pd\n",
    "import geopandas as gpd\n",
    "from shapely.geometry import Point\n",
    "import pyproj\n",
    "import inspect\n",
    "# from .util import get_namespaces, nspv, TimePeriod, parseGDAReferencedElement, gda_member, check_list_param"
   ]
  },
  {
   "cell_type": "code",
   "execution_count": 12,
   "metadata": {},
   "outputs": [],
   "source": [
    "_capabilities= fluggs_sos._capabilities"
   ]
  },
  {
   "cell_type": "code",
   "execution_count": 13,
   "metadata": {},
   "outputs": [
    {
     "data": {
      "text/plain": [
       "<Element '{http://www.opengis.net/sos/2.0}Capabilities' at 0x7fbef631d360>"
      ]
     },
     "execution_count": 13,
     "metadata": {},
     "output_type": "execute_result"
    }
   ],
   "source": [
    "_capabilities"
   ]
  },
  {
   "cell_type": "code",
   "execution_count": 15,
   "metadata": {},
   "outputs": [
    {
     "data": {
      "text/plain": [
       "[]"
      ]
     },
     "execution_count": 15,
     "metadata": {},
     "output_type": "execute_result"
    }
   ],
   "source": [
    "_capabilities.findall(nspath_eval('sos:contents/sos:Contents/swes:offering/sos:ObservationOffering/swes:observableProperty', namespaces))"
   ]
  },
  {
   "cell_type": "markdown",
   "metadata": {},
   "source": [
    "Using the VSCode extension \"XML Tools\" to find the \"swes:observableProperty\" thinggy which appears to be under another path in the Kisters' server. "
   ]
  },
  {
   "cell_type": "code",
   "execution_count": 19,
   "metadata": {},
   "outputs": [],
   "source": [
    "x = _capabilities.findall(nspath_eval('sos:contents/sos:Contents/swes:observableProperty', namespaces))"
   ]
  },
  {
   "cell_type": "code",
   "execution_count": 20,
   "metadata": {},
   "outputs": [
    {
     "data": {
      "text/plain": [
       "['http://bom.gov.au/waterdata/services/parameters/Water Course Discharge',\n",
       " 'http://bom.gov.au/waterdata/services/parameters/Water Course Level',\n",
       " 'http://bom.gov.au/waterdata/services/parameters/Rainfall',\n",
       " 'http://bom.gov.au/waterdata/services/parameters/Ground Water Level',\n",
       " 'http://bom.gov.au/waterdata/services/parameters/Dry Air Temperature',\n",
       " 'http://bom.gov.au/waterdata/services/parameters/Relative Humidity',\n",
       " 'http://bom.gov.au/waterdata/services/parameters/Wind Speed',\n",
       " 'http://bom.gov.au/waterdata/services/parameters/Electrical Conductivity @ 25C',\n",
       " 'http://bom.gov.au/waterdata/services/parameters/Evaporation',\n",
       " 'http://bom.gov.au/waterdata/services/parameters/Wind Direction',\n",
       " 'http://bom.gov.au/waterdata/services/parameters/Turbidity',\n",
       " 'http://bom.gov.au/waterdata/services/parameters/Water Temperature',\n",
       " 'http://bom.gov.au/waterdata/services/parameters/pH',\n",
       " 'http://bom.gov.au/waterdata/services/parameters/Storage Volume',\n",
       " 'http://bom.gov.au/waterdata/services/parameters/Storage Level',\n",
       " 'http://bom.gov.au/waterdata/services/parameters/Generic',\n",
       " 'http://bom.gov.au/waterdata/services/parameters/Wet Air Temperature',\n",
       " 'http://bom.gov.au/waterdata/services/parameters/S']"
      ]
     },
     "execution_count": 20,
     "metadata": {},
     "output_type": "execute_result"
    }
   ],
   "source": [
    "[y.text for y in x]"
   ]
  },
  {
   "cell_type": "markdown",
   "metadata": {},
   "source": [
    "#### All available features of interest"
   ]
  },
  {
   "cell_type": "code",
   "execution_count": 23,
   "metadata": {},
   "outputs": [
    {
     "ename": "KeyError",
     "evalue": "'featureOfInterest'",
     "output_type": "error",
     "traceback": [
      "\u001b[0;31m---------------------------------------------------------------------------\u001b[0m",
      "\u001b[0;31mKeyError\u001b[0m                                  Traceback (most recent call last)",
      "\u001b[0;32m<ipython-input-23-b3a7fc2683c5>\u001b[0m in \u001b[0;36m<module>\u001b[0;34m\u001b[0m\n\u001b[0;32m----> 1\u001b[0;31m \u001b[0mprint\u001b[0m\u001b[0;34m(\u001b[0m\u001b[0mfluggs_sos\u001b[0m\u001b[0;34m.\u001b[0m\u001b[0msosFeaturesOfInterest\u001b[0m\u001b[0;34m(\u001b[0m\u001b[0;34m)\u001b[0m\u001b[0;34m)\u001b[0m\u001b[0;34m\u001b[0m\u001b[0;34m\u001b[0m\u001b[0m\n\u001b[0m",
      "\u001b[0;32m~/src/github/sos4py/sos4py/sos_2_0_0.py\u001b[0m in \u001b[0;36msosFeaturesOfInterest\u001b[0;34m(self)\u001b[0m\n\u001b[1;32m     74\u001b[0m         \u001b[0mget_foi\u001b[0m \u001b[0;34m=\u001b[0m \u001b[0mself\u001b[0m\u001b[0;34m.\u001b[0m\u001b[0mget_operation_by_name\u001b[0m\u001b[0;34m(\u001b[0m\u001b[0;34m'GetFeatureOfInterest'\u001b[0m\u001b[0;34m)\u001b[0m\u001b[0;34m\u001b[0m\u001b[0;34m\u001b[0m\u001b[0m\n\u001b[1;32m     75\u001b[0m         \u001b[0mfois\u001b[0m \u001b[0;34m=\u001b[0m \u001b[0;34m[\u001b[0m\u001b[0;34m]\u001b[0m\u001b[0;34m\u001b[0m\u001b[0;34m\u001b[0m\u001b[0m\n\u001b[0;32m---> 76\u001b[0;31m         \u001b[0;32mfor\u001b[0m \u001b[0mfoi\u001b[0m \u001b[0;32min\u001b[0m \u001b[0msorted\u001b[0m\u001b[0;34m(\u001b[0m\u001b[0mget_foi\u001b[0m\u001b[0;34m.\u001b[0m\u001b[0mparameters\u001b[0m\u001b[0;34m[\u001b[0m\u001b[0;34m'featureOfInterest'\u001b[0m\u001b[0;34m]\u001b[0m\u001b[0;34m[\u001b[0m\u001b[0;34m'values'\u001b[0m\u001b[0;34m]\u001b[0m\u001b[0;34m)\u001b[0m\u001b[0;34m:\u001b[0m\u001b[0;34m\u001b[0m\u001b[0;34m\u001b[0m\u001b[0m\n\u001b[0m\u001b[1;32m     77\u001b[0m             \u001b[0mfois\u001b[0m\u001b[0;34m.\u001b[0m\u001b[0mappend\u001b[0m\u001b[0;34m(\u001b[0m\u001b[0mfoi\u001b[0m\u001b[0;34m)\u001b[0m\u001b[0;34m\u001b[0m\u001b[0;34m\u001b[0m\u001b[0m\n\u001b[1;32m     78\u001b[0m         \u001b[0;32mreturn\u001b[0m \u001b[0mfois\u001b[0m\u001b[0;34m\u001b[0m\u001b[0;34m\u001b[0m\u001b[0m\n",
      "\u001b[0;31mKeyError\u001b[0m: 'featureOfInterest'"
     ]
    }
   ],
   "source": [
    "print(fluggs_sos.sosFeaturesOfInterest())"
   ]
  },
  {
   "cell_type": "code",
   "execution_count": 26,
   "metadata": {},
   "outputs": [
    {
     "data": {
      "text/plain": [
       "<owslib.ows.OperationsMetadata GetFeatureOfInterest at 0x7fbef61f0550>"
      ]
     },
     "execution_count": 26,
     "metadata": {},
     "output_type": "execute_result"
    }
   ],
   "source": [
    "get_foi = fluggs_sos.get_operation_by_name('GetFeatureOfInterest')\n",
    "get_foi"
   ]
  },
  {
   "cell_type": "code",
   "execution_count": 32,
   "metadata": {},
   "outputs": [
    {
     "data": {
      "text/plain": [
       "['__class__',\n",
       " '__delattr__',\n",
       " '__dict__',\n",
       " '__dir__',\n",
       " '__doc__',\n",
       " '__eq__',\n",
       " '__format__',\n",
       " '__ge__',\n",
       " '__getattribute__',\n",
       " '__gt__',\n",
       " '__hash__',\n",
       " '__init__',\n",
       " '__init_subclass__',\n",
       " '__le__',\n",
       " '__lt__',\n",
       " '__module__',\n",
       " '__ne__',\n",
       " '__new__',\n",
       " '__reduce__',\n",
       " '__reduce_ex__',\n",
       " '__repr__',\n",
       " '__setattr__',\n",
       " '__sizeof__',\n",
       " '__str__',\n",
       " '__subclasshook__',\n",
       " '__weakref__',\n",
       " 'constraints',\n",
       " 'formatOptions',\n",
       " 'methods',\n",
       " 'name',\n",
       " 'parameters']"
      ]
     },
     "execution_count": 32,
     "metadata": {},
     "output_type": "execute_result"
    }
   ],
   "source": [
    "dir(get_foi)"
   ]
  },
  {
   "cell_type": "code",
   "execution_count": 27,
   "metadata": {},
   "outputs": [
    {
     "data": {
      "text/plain": [
       "{}"
      ]
     },
     "execution_count": 27,
     "metadata": {},
     "output_type": "execute_result"
    }
   ],
   "source": [
    "get_foi.parameters"
   ]
  },
  {
   "cell_type": "code",
   "execution_count": 30,
   "metadata": {},
   "outputs": [
    {
     "data": {
      "text/plain": [
       "['text/xml']"
      ]
     },
     "execution_count": 30,
     "metadata": {},
     "output_type": "execute_result"
    }
   ],
   "source": [
    "get_foi.formatOptions"
   ]
  },
  {
   "cell_type": "code",
   "execution_count": 25,
   "metadata": {},
   "outputs": [
    {
     "data": {
      "text/plain": [
       "[{'constraints': [Constraint: Content-Type - ['application/x-kvp']],\n",
       "  'type': 'Get',\n",
       "  'url': 'http://wdo-prod-01/waterdata/services?datasource=0'},\n",
       " {'constraints': [Constraint: Content-Type - ['application/soap+xml', 'application/xml']],\n",
       "  'type': 'Post',\n",
       "  'url': 'http://wdo-prod-01/waterdata/services?datasource=0'}]"
      ]
     },
     "execution_count": 25,
     "metadata": {},
     "output_type": "execute_result"
    }
   ],
   "source": [
    "get_foi.methods"
   ]
  },
  {
   "cell_type": "markdown",
   "metadata": {},
   "source": [
    "\n",
    "## Rest below not yet adapted from original example\n",
    "\n",
    "\n",
    "#### Data availability"
   ]
  },
  {
   "cell_type": "code",
   "execution_count": null,
   "metadata": {},
   "outputs": [],
   "source": [
    "#print(fluggs_sos.get_data_availability())\n",
    "\n",
    "props = ['Wassertemperatur']\n",
    "fois = ['Opladen','Bever-Talsperre']\n",
    "gda = fluggs_sos.get_data_availability(observedProperties=props,featuresOfInterest=fois)\n",
    "print(gda)"
   ]
  },
  {
   "cell_type": "markdown",
   "metadata": {},
   "source": [
    "# 2) Spatial data"
   ]
  },
  {
   "cell_type": "markdown",
   "metadata": {},
   "source": [
    "### 2a) Get spatial data"
   ]
  },
  {
   "cell_type": "code",
   "execution_count": null,
   "metadata": {},
   "outputs": [],
   "source": [
    "include_phenomena = False\n",
    "fluggs_sites = fluggs_sos.get_sites(include_phenomena)\n",
    "fluggs_sites.head()"
   ]
  },
  {
   "cell_type": "code",
   "execution_count": null,
   "metadata": {},
   "outputs": [],
   "source": [
    "# Check and change coordinate reference system\n",
    "print(fluggs_sites.crs,\"\\n\")\n",
    "fluggs_sites = fluggs_sites.to_crs('epsg:4326')\n",
    "\n",
    "# View specific site using integer-locaiton\n",
    "print(fluggs_sites.iloc[0])"
   ]
  },
  {
   "cell_type": "markdown",
   "metadata": {},
   "source": [
    "### 2b) Plot spatial data"
   ]
  },
  {
   "cell_type": "code",
   "execution_count": null,
   "metadata": {},
   "outputs": [],
   "source": [
    "# Static map using GeoDataframe.plot\n",
    "\n",
    "# sites = sites.to_crs('epsg:3857') # epsg:4326\n",
    "ax = fluggs_sites.plot(figsize=(15, 15))\n",
    "ctx.add_basemap(ax, crs=fluggs_sites.crs.to_string())\n",
    "# optional parameters:\n",
    "# source=ctx.providers.OpenStreetMap.Mapnik\n",
    "# zoom=12\n",
    "ax"
   ]
  },
  {
   "cell_type": "code",
   "execution_count": null,
   "metadata": {
    "scrolled": true
   },
   "outputs": [],
   "source": [
    "# Interactive map using folium\n",
    "\n",
    "lngs = list(fluggs_sites['geometry'].apply(lambda coord: coord.x))\n",
    "lats = list(fluggs_sites['geometry'].apply(lambda coord: coord.y))\n",
    "avg_lat = sum(lats) / len(lats)\n",
    "avg_lngs = sum(lngs) / len(lngs)\n",
    "\n",
    "# folium uses (lat, long) or (y, x), respectively\n",
    "locationlist = [[site.y, site.x] for site in fluggs_sites['geometry']]\n",
    "\n",
    "m = folium.Map(location=[avg_lat, avg_lngs], zoom_start=10)\n",
    "for point in range(0, len(locationlist)):\n",
    "    popup = folium.Popup(folium.IFrame(html=fluggs_sites['site_name'][point], width=200, height=80))\n",
    "    folium.Marker(locationlist[point], popup=popup).add_to(m)\n",
    "m"
   ]
  },
  {
   "cell_type": "markdown",
   "metadata": {},
   "source": [
    "# 3) Sensor data"
   ]
  },
  {
   "cell_type": "markdown",
   "metadata": {},
   "source": [
    "### 3a) Get sensor data"
   ]
  },
  {
   "cell_type": "code",
   "execution_count": null,
   "metadata": {},
   "outputs": [],
   "source": [
    "# Optional arguments for get_data(): procedures, phenomena, sites, begin, end\n",
    "begin = '2019-01-01T00:00:00Z' \n",
    "end = '2019-01-31T23:59:59Z'\n",
    "procedures = ['2m_Tiefe']\n",
    "phenomena = ['Wassertemperatur']\n",
    "sites = ['Opladen']\n",
    "\n",
    "fluggs_obs = fluggs_sos.get_data(sites=sites, phenomena=phenomena, begin=begin, end=end)\n",
    "\n",
    "fluggs_obs.head()"
   ]
  },
  {
   "cell_type": "code",
   "execution_count": null,
   "metadata": {},
   "outputs": [],
   "source": [
    "# Check unique values in column\n",
    "fluggs_obs['procedure'].unique()"
   ]
  },
  {
   "cell_type": "code",
   "execution_count": null,
   "metadata": {},
   "outputs": [],
   "source": [
    "# Subset of data frame\n",
    "#fluggs_obs[(fluggs_obs['site']=='Opladen') & (fluggs_obs['procedure']=='Einzelwerte')]\n",
    "#fluggs_obs[(fluggs_obs['value'] > 5)] "
   ]
  },
  {
   "cell_type": "markdown",
   "metadata": {},
   "source": [
    "### 3b) Plot sensor data"
   ]
  },
  {
   "cell_type": "markdown",
   "metadata": {},
   "source": [
    "#### Plot a single time series"
   ]
  },
  {
   "cell_type": "code",
   "execution_count": null,
   "metadata": {},
   "outputs": [],
   "source": [
    "foi = sites[0]\n",
    "x = fluggs_obs[fluggs_obs['site']==foi]['time_stamp'].to_numpy()\n",
    "y = fluggs_obs[fluggs_obs['site']==foi]['value'].to_numpy()\n",
    "\n",
    "plt.figure(figsize=(12,5))\n",
    "plt.plot(x,y)\n",
    "plt.xlabel('Time')\n",
    "plt.ylabel(fluggs_obs['phenomenon'][0] + \" \" + fluggs_obs['procedure'][0] + \" in \" + fluggs_obs['unit'][0])\n",
    "plt.title(fluggs_obs['site'][0])\n",
    "plt.show()"
   ]
  },
  {
   "cell_type": "markdown",
   "metadata": {},
   "source": [
    "#### Plot two time series of two different sites"
   ]
  },
  {
   "cell_type": "code",
   "execution_count": null,
   "metadata": {},
   "outputs": [],
   "source": [
    "# Check data availability\n",
    "fluggs_sos.get_data_availability(observedProperties=['Wassertemperatur'],procedures=['Einzelwerte'])"
   ]
  },
  {
   "cell_type": "code",
   "execution_count": null,
   "metadata": {},
   "outputs": [],
   "source": [
    "# New request with two sites\n",
    "begin = '2019-01-01T00:00:00Z' \n",
    "end = '2019-01-31T23:59:59Z'\n",
    "procedures = ['Einzelwerte']\n",
    "phenomena = ['Wassertemperatur']\n",
    "sites = ['Opladen','Laaken']\n",
    "\n",
    "fluggs_obs = fluggs_sos.get_data(sites=sites, phenomena=phenomena, begin=begin, end=end)\n",
    "fluggs_obs.head()"
   ]
  },
  {
   "cell_type": "code",
   "execution_count": null,
   "metadata": {},
   "outputs": [],
   "source": [
    "x1 = fluggs_obs[(fluggs_obs['site']==sites[0])]['time_stamp'].to_numpy()\n",
    "y1 = fluggs_obs[(fluggs_obs['site']==sites[0])]['value'].to_numpy()\n",
    "\n",
    "x2 = fluggs_obs[(fluggs_obs['site']==sites[1])]['time_stamp'].to_numpy()\n",
    "y2 = fluggs_obs[(fluggs_obs['site']==sites[1])]['value'].to_numpy()\n",
    "\n",
    "plt.figure(figsize=(12,5))\n",
    "plt.plot(x1,y1,label=sites[0])\n",
    "plt.plot(x2,y2,label=sites[1])\n",
    "plt.xlabel('Time')\n",
    "plt.ylabel(fluggs_obs['phenomenon'][0] + \" \" + fluggs_obs['procedure'][0] + \" in \" + fluggs_obs['unit'][0])\n",
    "plt.legend()\n",
    "plt.show()"
   ]
  },
  {
   "cell_type": "markdown",
   "metadata": {},
   "source": [
    "#### Plot two time series of two different phenomena"
   ]
  },
  {
   "cell_type": "code",
   "execution_count": null,
   "metadata": {},
   "outputs": [],
   "source": [
    "fluggs_sos.get_data_availability(featureOfInterest=['Bever-Talsperre'],observedProperties=['Luftfeuchte','Lufttemperatur'])"
   ]
  },
  {
   "cell_type": "code",
   "execution_count": null,
   "metadata": {},
   "outputs": [],
   "source": [
    "# New request with two phenomena for one site\n",
    "begin = '2011-01-01T00:00:00Z' \n",
    "end = '2011-01-31T23:59:59Z'\n",
    "phenomena = ['Luftfeuchte','Lufttemperatur']\n",
    "sites = ['Bever-Talsperre']\n",
    "\n",
    "fluggs_obs = fluggs_sos.get_data(sites=sites, phenomena=phenomena, begin=begin, end=end)\n",
    "fluggs_obs.head()"
   ]
  },
  {
   "cell_type": "code",
   "execution_count": null,
   "metadata": {},
   "outputs": [],
   "source": [
    "x3 = fluggs_obs[(fluggs_obs['phenomenon']==phenomena[0])]['time_stamp'].to_numpy()\n",
    "y3 = fluggs_obs[(fluggs_obs['phenomenon']==phenomena[0])]['value'].to_numpy()\n",
    "\n",
    "x4 = fluggs_obs[(fluggs_obs['phenomenon']==phenomena[1])]['time_stamp'].to_numpy()\n",
    "y4 = fluggs_obs[(fluggs_obs['phenomenon']==phenomena[1])]['value'].to_numpy()\n",
    "\n",
    "fig, ax1 = plt.subplots(figsize=(12,5))\n",
    "\n",
    "color = 'red'\n",
    "ax1.set_xlabel('Time')\n",
    "ax1.set_ylabel('Luftfeuchte', color=color)\n",
    "ax1.plot(x3, y3, color=color)\n",
    "ax1.tick_params(axis='y', labelcolor=color)\n",
    "\n",
    "ax2 = ax1.twinx()  \n",
    "\n",
    "color = 'blue'\n",
    "ax2.set_ylabel('Lufttemperatur', color=color)  \n",
    "ax2.plot(x4, y4, color=color)\n",
    "ax2.tick_params(axis='y', labelcolor=color)\n",
    "\n",
    "fig.tight_layout()  \n",
    "plt.show()"
   ]
  },
  {
   "cell_type": "markdown",
   "metadata": {},
   "source": [
    "#### Data sub-sampling"
   ]
  },
  {
   "cell_type": "code",
   "execution_count": null,
   "metadata": {},
   "outputs": [],
   "source": [
    "interval = '4h'\n",
    "\n",
    "# Phenomenon 1\n",
    "df1 = fluggs_obs[(fluggs_obs['phenomenon']==phenomena[0])]\n",
    "df1 = df1[['time_stamp','value']]\n",
    "\n",
    "# Remove duplicate time stamps and sub-sample data\n",
    "grouped = df1.groupby('time_stamp')['value']\n",
    "grouped = grouped.agg('mean')\n",
    "df1 = pd.DataFrame(grouped)\n",
    "df1_sub = df1.resample(interval).nearest()\n",
    "df1_sub = df1_sub.reset_index()\n",
    "\n",
    "\n",
    "# Phenomenon 2\n",
    "df2 = fluggs_obs[(fluggs_obs['phenomenon']==phenomena[1])]\n",
    "df2 = df2[['time_stamp','value']]\n",
    "\n",
    "# Remove duplicate time stamps and sub-sample data\n",
    "grouped = df2.groupby('time_stamp')['value']\n",
    "grouped = grouped.agg('mean')\n",
    "df2 = pd.DataFrame(grouped)\n",
    "df2_sub = df2.resample(interval).nearest()\n",
    "df2_sub = df2_sub.reset_index()"
   ]
  },
  {
   "cell_type": "code",
   "execution_count": null,
   "metadata": {},
   "outputs": [],
   "source": [
    "x3 = df1_sub['time_stamp'].to_numpy()\n",
    "y3 = df1_sub['value'].to_numpy()\n",
    "\n",
    "x4 = df2_sub['time_stamp'].to_numpy()\n",
    "y4 = df2_sub['value'].to_numpy()\n",
    "\n",
    "fig, ax1 = plt.subplots(figsize=(12,5))\n",
    "\n",
    "color = 'red'\n",
    "ax1.set_xlabel('Time')\n",
    "ax1.set_ylabel('Luftfeuchte', color=color)\n",
    "ax1.plot(x3, y3, color=color)\n",
    "ax1.tick_params(axis='y', labelcolor=color)\n",
    "\n",
    "ax2 = ax1.twinx()  \n",
    "\n",
    "color = 'blue'\n",
    "ax2.set_ylabel('Lufttemperatur', color=color)  \n",
    "ax2.plot(x4, y4, color=color)\n",
    "ax2.tick_params(axis='y', labelcolor=color)\n",
    "\n",
    "fig.tight_layout()  \n",
    "plt.show()"
   ]
  },
  {
   "cell_type": "markdown",
   "metadata": {},
   "source": [
    "#### Histogram and Kernel density estimation (KDE)"
   ]
  },
  {
   "cell_type": "code",
   "execution_count": null,
   "metadata": {},
   "outputs": [],
   "source": [
    "sns.distplot(y1, bins=10);\n",
    "sns.distplot(y2, bins=10);"
   ]
  },
  {
   "cell_type": "markdown",
   "metadata": {},
   "source": [
    "#### 2D KDE"
   ]
  },
  {
   "cell_type": "code",
   "execution_count": null,
   "metadata": {},
   "outputs": [],
   "source": [
    "sns.kdeplot(y1,y2);"
   ]
  },
  {
   "cell_type": "markdown",
   "metadata": {},
   "source": [
    "#### Joint plots/Correlation"
   ]
  },
  {
   "cell_type": "code",
   "execution_count": null,
   "metadata": {},
   "outputs": [],
   "source": [
    "sns.jointplot(y1, y2, kind='reg', joint_kws={'line_kws':{'color':'red'}}).annotate(stats.pearsonr);"
   ]
  },
  {
   "cell_type": "code",
   "execution_count": null,
   "metadata": {},
   "outputs": [],
   "source": [
    "sns.jointplot(y1, y2, kind='hex');"
   ]
  },
  {
   "cell_type": "code",
   "execution_count": null,
   "metadata": {},
   "outputs": [],
   "source": [
    "sns.jointplot(y1, y2, kind='kde');"
   ]
  },
  {
   "cell_type": "code",
   "execution_count": null,
   "metadata": {},
   "outputs": [],
   "source": []
  }
 ],
 "metadata": {
  "colab": {
   "authorship_tag": "ABX9TyMNuBKlK0xe9ttCjtdtNoEp",
   "include_colab_link": true,
   "name": "Untitled1.ipynb",
   "provenance": []
  },
  "kernelspec": {
   "display_name": "pt",
   "language": "python",
   "name": "pt"
  },
  "language_info": {
   "codemirror_mode": {
    "name": "ipython",
    "version": 3
   },
   "file_extension": ".py",
   "mimetype": "text/x-python",
   "name": "python",
   "nbconvert_exporter": "python",
   "pygments_lexer": "ipython3",
   "version": "3.8.6"
  }
 },
 "nbformat": 4,
 "nbformat_minor": 4
}
